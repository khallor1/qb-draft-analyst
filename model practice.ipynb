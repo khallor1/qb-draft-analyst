{
 "cells": [
  {
   "cell_type": "code",
   "execution_count": 57,
   "metadata": {},
   "outputs": [],
   "source": [
    "import pandas as pd\n",
    "COLUMN_NAMES =[\"PLAYER\", \"COLLEGE\", \"CONF\", \"GAMES_PLAYED\", \"GAMES_STARTED\", \"RECORD\", \"CMP\", \"ATT\", \"YDS\", \"TD\", \"INT\", \"RUSH_ATT\", \"RUSH_YDS\", \"RUSH_TD\", \"COLL_CMP\", \"COLL_ATT\", \"COLL_YDS\", \"COLL_TD\", \"COLL_INT\", \"COLL_RUSH_ATT\", \"COLL_RUSH_YDS\", \"COLL_RUSH_TDS\"]\n",
    "df = pd.read_csv('data/scraped_data.csv', usecols=COLUMN_NAMES)"
   ]
  },
  {
   "cell_type": "code",
   "execution_count": 58,
   "metadata": {},
   "outputs": [],
   "source": [
    "REGRESSOR_COLUMN_NAMES = [\"GAMES_PLAYED\", \"GAMES_STARTED\", \"CMP\", \"ATT\", \"YDS\", \"TD\", \"INT\", \"RUSH_ATT\", \"RUSH_YDS\", \"RUSH_TD\"]\n",
    "CLASS_LABELS = df['RECORD'].apply(lambda rec: 0 if int(rec.split('-')[0]) < 10 else 1)\n",
    "REGRESSOR_LABELS = df[REGRESSOR_COLUMN_NAMES]\n",
    "TRAIN_DATA = df.drop(columns=REGRESSOR_COLUMN_NAMES)\n",
    "TRAIN_DATA.drop(columns=['PLAYER', 'RECORD'], inplace=True)"
   ]
  },
  {
   "cell_type": "code",
   "execution_count": 59,
   "metadata": {},
   "outputs": [],
   "source": [
    "#one-hot encoding\n",
    "# first, combine the 2 dataframes\n",
    "TEST_COLUMN_NAMES =[\"PLAYER\", \"COLLEGE\", \"CONF\", \"COLL_CMP\", \"COLL_ATT\", \"COLL_YDS\", \"COLL_TD\", \"COLL_INT\", \"COLL_RUSH_ATT\", \"COLL_RUSH_YDS\", \"COLL_RUSH_TDS\"]\n",
    "test_df = pd.read_csv('data/test_data.csv', usecols=TEST_COLUMN_NAMES)\n",
    "combined_df = TRAIN_DATA.append(test_df.drop(columns=[\"PLAYER\"]), ignore_index=True)"
   ]
  },
  {
   "cell_type": "code",
   "execution_count": 60,
   "metadata": {},
   "outputs": [
    {
     "data": {
      "text/html": [
       "<div>\n",
       "<style scoped>\n",
       "    .dataframe tbody tr th:only-of-type {\n",
       "        vertical-align: middle;\n",
       "    }\n",
       "\n",
       "    .dataframe tbody tr th {\n",
       "        vertical-align: top;\n",
       "    }\n",
       "\n",
       "    .dataframe thead th {\n",
       "        text-align: right;\n",
       "    }\n",
       "</style>\n",
       "<table border=\"1\" class=\"dataframe\">\n",
       "  <thead>\n",
       "    <tr style=\"text-align: right;\">\n",
       "      <th></th>\n",
       "      <th>PLAYER</th>\n",
       "      <th>COLL_CMP</th>\n",
       "      <th>COLL_ATT</th>\n",
       "      <th>COLL_YDS</th>\n",
       "      <th>COLL_TD</th>\n",
       "      <th>COLL_INT</th>\n",
       "      <th>COLL_RUSH_ATT</th>\n",
       "      <th>COLL_RUSH_YDS</th>\n",
       "      <th>COLL_RUSH_TDS</th>\n",
       "      <th>COLLEGE_Akron</th>\n",
       "      <th>...</th>\n",
       "      <th>CONF_CUSA</th>\n",
       "      <th>CONF_Ind</th>\n",
       "      <th>CONF_MAC</th>\n",
       "      <th>CONF_MVC</th>\n",
       "      <th>CONF_MWC</th>\n",
       "      <th>CONF_Pac-10</th>\n",
       "      <th>CONF_Pac-12</th>\n",
       "      <th>CONF_SEC</th>\n",
       "      <th>CONF_Sun Belt</th>\n",
       "      <th>CONF_WAC</th>\n",
       "    </tr>\n",
       "  </thead>\n",
       "  <tbody>\n",
       "    <tr>\n",
       "      <th>0</th>\n",
       "      <td>Kyler Murray</td>\n",
       "      <td>331</td>\n",
       "      <td>482</td>\n",
       "      <td>5098</td>\n",
       "      <td>48</td>\n",
       "      <td>14</td>\n",
       "      <td>190</td>\n",
       "      <td>1369</td>\n",
       "      <td>12</td>\n",
       "      <td>0</td>\n",
       "      <td>...</td>\n",
       "      <td>0</td>\n",
       "      <td>0</td>\n",
       "      <td>0</td>\n",
       "      <td>0</td>\n",
       "      <td>0</td>\n",
       "      <td>0</td>\n",
       "      <td>0</td>\n",
       "      <td>0</td>\n",
       "      <td>0</td>\n",
       "      <td>0</td>\n",
       "    </tr>\n",
       "    <tr>\n",
       "      <th>1</th>\n",
       "      <td>Will Grier</td>\n",
       "      <td>621</td>\n",
       "      <td>945</td>\n",
       "      <td>8556</td>\n",
       "      <td>81</td>\n",
       "      <td>23</td>\n",
       "      <td>147</td>\n",
       "      <td>148</td>\n",
       "      <td>7</td>\n",
       "      <td>0</td>\n",
       "      <td>...</td>\n",
       "      <td>0</td>\n",
       "      <td>0</td>\n",
       "      <td>0</td>\n",
       "      <td>0</td>\n",
       "      <td>0</td>\n",
       "      <td>0</td>\n",
       "      <td>0</td>\n",
       "      <td>0</td>\n",
       "      <td>0</td>\n",
       "      <td>0</td>\n",
       "    </tr>\n",
       "    <tr>\n",
       "      <th>2</th>\n",
       "      <td>Dwayne Haskins</td>\n",
       "      <td>388</td>\n",
       "      <td>553</td>\n",
       "      <td>5145</td>\n",
       "      <td>51</td>\n",
       "      <td>9</td>\n",
       "      <td>97</td>\n",
       "      <td>208</td>\n",
       "      <td>4</td>\n",
       "      <td>0</td>\n",
       "      <td>...</td>\n",
       "      <td>0</td>\n",
       "      <td>0</td>\n",
       "      <td>0</td>\n",
       "      <td>0</td>\n",
       "      <td>0</td>\n",
       "      <td>0</td>\n",
       "      <td>0</td>\n",
       "      <td>0</td>\n",
       "      <td>0</td>\n",
       "      <td>0</td>\n",
       "    </tr>\n",
       "    <tr>\n",
       "      <th>3</th>\n",
       "      <td>Ryan Finley</td>\n",
       "      <td>919</td>\n",
       "      <td>1429</td>\n",
       "      <td>11008</td>\n",
       "      <td>62</td>\n",
       "      <td>28</td>\n",
       "      <td>209</td>\n",
       "      <td>386</td>\n",
       "      <td>5</td>\n",
       "      <td>0</td>\n",
       "      <td>...</td>\n",
       "      <td>0</td>\n",
       "      <td>0</td>\n",
       "      <td>0</td>\n",
       "      <td>0</td>\n",
       "      <td>0</td>\n",
       "      <td>0</td>\n",
       "      <td>0</td>\n",
       "      <td>0</td>\n",
       "      <td>0</td>\n",
       "      <td>0</td>\n",
       "    </tr>\n",
       "    <tr>\n",
       "      <th>4</th>\n",
       "      <td>Shea Patterson</td>\n",
       "      <td>426</td>\n",
       "      <td>682</td>\n",
       "      <td>5503</td>\n",
       "      <td>44</td>\n",
       "      <td>17</td>\n",
       "      <td>154</td>\n",
       "      <td>421</td>\n",
       "      <td>3</td>\n",
       "      <td>0</td>\n",
       "      <td>...</td>\n",
       "      <td>0</td>\n",
       "      <td>0</td>\n",
       "      <td>0</td>\n",
       "      <td>0</td>\n",
       "      <td>0</td>\n",
       "      <td>0</td>\n",
       "      <td>0</td>\n",
       "      <td>0</td>\n",
       "      <td>0</td>\n",
       "      <td>0</td>\n",
       "    </tr>\n",
       "    <tr>\n",
       "      <th>5</th>\n",
       "      <td>Justin Herbert</td>\n",
       "      <td>522</td>\n",
       "      <td>832</td>\n",
       "      <td>6904</td>\n",
       "      <td>62</td>\n",
       "      <td>17</td>\n",
       "      <td>169</td>\n",
       "      <td>517</td>\n",
       "      <td>9</td>\n",
       "      <td>0</td>\n",
       "      <td>...</td>\n",
       "      <td>0</td>\n",
       "      <td>0</td>\n",
       "      <td>0</td>\n",
       "      <td>0</td>\n",
       "      <td>0</td>\n",
       "      <td>0</td>\n",
       "      <td>1</td>\n",
       "      <td>0</td>\n",
       "      <td>0</td>\n",
       "      <td>0</td>\n",
       "    </tr>\n",
       "    <tr>\n",
       "      <th>6</th>\n",
       "      <td>Drew Lock</td>\n",
       "      <td>860</td>\n",
       "      <td>1515</td>\n",
       "      <td>11820</td>\n",
       "      <td>96</td>\n",
       "      <td>39</td>\n",
       "      <td>196</td>\n",
       "      <td>407</td>\n",
       "      <td>9</td>\n",
       "      <td>0</td>\n",
       "      <td>...</td>\n",
       "      <td>0</td>\n",
       "      <td>0</td>\n",
       "      <td>0</td>\n",
       "      <td>0</td>\n",
       "      <td>0</td>\n",
       "      <td>0</td>\n",
       "      <td>0</td>\n",
       "      <td>1</td>\n",
       "      <td>0</td>\n",
       "      <td>0</td>\n",
       "    </tr>\n",
       "    <tr>\n",
       "      <th>7</th>\n",
       "      <td>Kyle Shurmur</td>\n",
       "      <td>704</td>\n",
       "      <td>1227</td>\n",
       "      <td>8579</td>\n",
       "      <td>63</td>\n",
       "      <td>29</td>\n",
       "      <td>133</td>\n",
       "      <td>-340</td>\n",
       "      <td>3</td>\n",
       "      <td>0</td>\n",
       "      <td>...</td>\n",
       "      <td>0</td>\n",
       "      <td>0</td>\n",
       "      <td>0</td>\n",
       "      <td>0</td>\n",
       "      <td>0</td>\n",
       "      <td>0</td>\n",
       "      <td>0</td>\n",
       "      <td>1</td>\n",
       "      <td>0</td>\n",
       "      <td>0</td>\n",
       "    </tr>\n",
       "    <tr>\n",
       "      <th>8</th>\n",
       "      <td>Gardner Minshew</td>\n",
       "      <td>726</td>\n",
       "      <td>1119</td>\n",
       "      <td>7964</td>\n",
       "      <td>60</td>\n",
       "      <td>20</td>\n",
       "      <td>90</td>\n",
       "      <td>27</td>\n",
       "      <td>3</td>\n",
       "      <td>0</td>\n",
       "      <td>...</td>\n",
       "      <td>0</td>\n",
       "      <td>0</td>\n",
       "      <td>0</td>\n",
       "      <td>0</td>\n",
       "      <td>0</td>\n",
       "      <td>0</td>\n",
       "      <td>1</td>\n",
       "      <td>0</td>\n",
       "      <td>0</td>\n",
       "      <td>0</td>\n",
       "    </tr>\n",
       "    <tr>\n",
       "      <th>9</th>\n",
       "      <td>Nathan Stanley</td>\n",
       "      <td>415</td>\n",
       "      <td>726</td>\n",
       "      <td>5132</td>\n",
       "      <td>49</td>\n",
       "      <td>15</td>\n",
       "      <td>81</td>\n",
       "      <td>-93</td>\n",
       "      <td>1</td>\n",
       "      <td>0</td>\n",
       "      <td>...</td>\n",
       "      <td>0</td>\n",
       "      <td>0</td>\n",
       "      <td>0</td>\n",
       "      <td>0</td>\n",
       "      <td>0</td>\n",
       "      <td>0</td>\n",
       "      <td>0</td>\n",
       "      <td>0</td>\n",
       "      <td>0</td>\n",
       "      <td>0</td>\n",
       "    </tr>\n",
       "    <tr>\n",
       "      <th>10</th>\n",
       "      <td>Jarrett Stidham</td>\n",
       "      <td>530</td>\n",
       "      <td>827</td>\n",
       "      <td>6844</td>\n",
       "      <td>43</td>\n",
       "      <td>13</td>\n",
       "      <td>210</td>\n",
       "      <td>218</td>\n",
       "      <td>9</td>\n",
       "      <td>0</td>\n",
       "      <td>...</td>\n",
       "      <td>0</td>\n",
       "      <td>0</td>\n",
       "      <td>0</td>\n",
       "      <td>0</td>\n",
       "      <td>0</td>\n",
       "      <td>0</td>\n",
       "      <td>0</td>\n",
       "      <td>1</td>\n",
       "      <td>0</td>\n",
       "      <td>0</td>\n",
       "    </tr>\n",
       "    <tr>\n",
       "      <th>11</th>\n",
       "      <td>Deondre Francois</td>\n",
       "      <td>480</td>\n",
       "      <td>829</td>\n",
       "      <td>6279</td>\n",
       "      <td>36</td>\n",
       "      <td>21</td>\n",
       "      <td>195</td>\n",
       "      <td>205</td>\n",
       "      <td>8</td>\n",
       "      <td>0</td>\n",
       "      <td>...</td>\n",
       "      <td>0</td>\n",
       "      <td>0</td>\n",
       "      <td>0</td>\n",
       "      <td>0</td>\n",
       "      <td>0</td>\n",
       "      <td>0</td>\n",
       "      <td>0</td>\n",
       "      <td>0</td>\n",
       "      <td>0</td>\n",
       "      <td>0</td>\n",
       "    </tr>\n",
       "    <tr>\n",
       "      <th>12</th>\n",
       "      <td>Clayton Thorson</td>\n",
       "      <td>970</td>\n",
       "      <td>1667</td>\n",
       "      <td>10490</td>\n",
       "      <td>59</td>\n",
       "      <td>44</td>\n",
       "      <td>357</td>\n",
       "      <td>414</td>\n",
       "      <td>27</td>\n",
       "      <td>0</td>\n",
       "      <td>...</td>\n",
       "      <td>0</td>\n",
       "      <td>0</td>\n",
       "      <td>0</td>\n",
       "      <td>0</td>\n",
       "      <td>0</td>\n",
       "      <td>0</td>\n",
       "      <td>0</td>\n",
       "      <td>0</td>\n",
       "      <td>0</td>\n",
       "      <td>0</td>\n",
       "    </tr>\n",
       "    <tr>\n",
       "      <th>13</th>\n",
       "      <td>Daniel Jones</td>\n",
       "      <td>734</td>\n",
       "      <td>1234</td>\n",
       "      <td>7778</td>\n",
       "      <td>47</td>\n",
       "      <td>27</td>\n",
       "      <td>400</td>\n",
       "      <td>1329</td>\n",
       "      <td>16</td>\n",
       "      <td>0</td>\n",
       "      <td>...</td>\n",
       "      <td>0</td>\n",
       "      <td>0</td>\n",
       "      <td>0</td>\n",
       "      <td>0</td>\n",
       "      <td>0</td>\n",
       "      <td>0</td>\n",
       "      <td>0</td>\n",
       "      <td>0</td>\n",
       "      <td>0</td>\n",
       "      <td>0</td>\n",
       "    </tr>\n",
       "  </tbody>\n",
       "</table>\n",
       "<p>14 rows × 128 columns</p>\n",
       "</div>"
      ],
      "text/plain": [
       "              PLAYER  COLL_CMP  COLL_ATT  COLL_YDS  COLL_TD  COLL_INT  \\\n",
       "0       Kyler Murray       331       482      5098       48        14   \n",
       "1         Will Grier       621       945      8556       81        23   \n",
       "2     Dwayne Haskins       388       553      5145       51         9   \n",
       "3        Ryan Finley       919      1429     11008       62        28   \n",
       "4     Shea Patterson       426       682      5503       44        17   \n",
       "5     Justin Herbert       522       832      6904       62        17   \n",
       "6          Drew Lock       860      1515     11820       96        39   \n",
       "7       Kyle Shurmur       704      1227      8579       63        29   \n",
       "8    Gardner Minshew       726      1119      7964       60        20   \n",
       "9     Nathan Stanley       415       726      5132       49        15   \n",
       "10   Jarrett Stidham       530       827      6844       43        13   \n",
       "11  Deondre Francois       480       829      6279       36        21   \n",
       "12   Clayton Thorson       970      1667     10490       59        44   \n",
       "13      Daniel Jones       734      1234      7778       47        27   \n",
       "\n",
       "    COLL_RUSH_ATT  COLL_RUSH_YDS  COLL_RUSH_TDS  COLLEGE_Akron    ...     \\\n",
       "0             190           1369             12              0    ...      \n",
       "1             147            148              7              0    ...      \n",
       "2              97            208              4              0    ...      \n",
       "3             209            386              5              0    ...      \n",
       "4             154            421              3              0    ...      \n",
       "5             169            517              9              0    ...      \n",
       "6             196            407              9              0    ...      \n",
       "7             133           -340              3              0    ...      \n",
       "8              90             27              3              0    ...      \n",
       "9              81            -93              1              0    ...      \n",
       "10            210            218              9              0    ...      \n",
       "11            195            205              8              0    ...      \n",
       "12            357            414             27              0    ...      \n",
       "13            400           1329             16              0    ...      \n",
       "\n",
       "    CONF_CUSA  CONF_Ind  CONF_MAC  CONF_MVC  CONF_MWC  CONF_Pac-10  \\\n",
       "0           0         0         0         0         0            0   \n",
       "1           0         0         0         0         0            0   \n",
       "2           0         0         0         0         0            0   \n",
       "3           0         0         0         0         0            0   \n",
       "4           0         0         0         0         0            0   \n",
       "5           0         0         0         0         0            0   \n",
       "6           0         0         0         0         0            0   \n",
       "7           0         0         0         0         0            0   \n",
       "8           0         0         0         0         0            0   \n",
       "9           0         0         0         0         0            0   \n",
       "10          0         0         0         0         0            0   \n",
       "11          0         0         0         0         0            0   \n",
       "12          0         0         0         0         0            0   \n",
       "13          0         0         0         0         0            0   \n",
       "\n",
       "    CONF_Pac-12  CONF_SEC  CONF_Sun Belt  CONF_WAC  \n",
       "0             0         0              0         0  \n",
       "1             0         0              0         0  \n",
       "2             0         0              0         0  \n",
       "3             0         0              0         0  \n",
       "4             0         0              0         0  \n",
       "5             1         0              0         0  \n",
       "6             0         1              0         0  \n",
       "7             0         1              0         0  \n",
       "8             1         0              0         0  \n",
       "9             0         0              0         0  \n",
       "10            0         1              0         0  \n",
       "11            0         0              0         0  \n",
       "12            0         0              0         0  \n",
       "13            0         0              0         0  \n",
       "\n",
       "[14 rows x 128 columns]"
      ]
     },
     "execution_count": 60,
     "metadata": {},
     "output_type": "execute_result"
    }
   ],
   "source": [
    "# one-hot encoding\n",
    "one_hot = pd.get_dummies(combined_df)\n",
    "\n",
    "ENCODED_TRAIN_DATA = one_hot.iloc[:225, :]\n",
    "ENCODED_TEST_DATA = one_hot.iloc[225:, :]\n",
    "college_test_df = test_df.merge(ENCODED_TEST_DATA)\n",
    "college_test_df.drop(columns=['COLLEGE', 'CONF'], inplace=True)\n",
    "college_test_df"
   ]
  },
  {
   "cell_type": "code",
   "execution_count": 70,
   "metadata": {},
   "outputs": [],
   "source": [
    "# test some classifiers\n",
    "X = ENCODED_TRAIN_DATA\n",
    "y = CLASS_LABELS\n",
    "from sklearn.model_selection import train_test_split\n",
    "X_train, X_test, y_train, y_test = train_test_split(X, y, test_size=0.25, random_state=42)"
   ]
  },
  {
   "cell_type": "code",
   "execution_count": 71,
   "metadata": {},
   "outputs": [],
   "source": [
    "#rfc\n",
    "from sklearn.ensemble import RandomForestClassifier"
   ]
  },
  {
   "cell_type": "code",
   "execution_count": 75,
   "metadata": {},
   "outputs": [
    {
     "data": {
      "text/plain": [
       "0.5789473684210527"
      ]
     },
     "execution_count": 75,
     "metadata": {},
     "output_type": "execute_result"
    }
   ],
   "source": [
    "rf_model = RandomForestClassifier(n_estimators=1, random_state=42)\n",
    "rf_model.fit(X_train, y_train)\n",
    "test_score = rf_model.score(X_test, y_test)\n",
    "test_score"
   ]
  },
  {
   "cell_type": "code",
   "execution_count": 91,
   "metadata": {},
   "outputs": [
    {
     "data": {
      "text/plain": [
       "array([1, 0, 1, 1, 1, 1, 0, 0, 0, 0, 1, 1, 0, 1])"
      ]
     },
     "execution_count": 91,
     "metadata": {},
     "output_type": "execute_result"
    }
   ],
   "source": [
    "rf_model.predict(ENCODED_TEST_DATA)"
   ]
  },
  {
   "cell_type": "code",
   "execution_count": 76,
   "metadata": {},
   "outputs": [],
   "source": [
    "# dt\n",
    "from sklearn.tree import DecisionTreeClassifier"
   ]
  },
  {
   "cell_type": "code",
   "execution_count": 89,
   "metadata": {},
   "outputs": [
    {
     "data": {
      "text/plain": [
       "0.5614035087719298"
      ]
     },
     "execution_count": 89,
     "metadata": {},
     "output_type": "execute_result"
    }
   ],
   "source": [
    "dt_model = DecisionTreeClassifier(max_depth=8, random_state=42)\n",
    "dt_model.fit(X_train, y_train)\n",
    "test_score = dt_model.score(X_test, y_test)\n",
    "test_score"
   ]
  },
  {
   "cell_type": "code",
   "execution_count": 90,
   "metadata": {},
   "outputs": [
    {
     "data": {
      "text/plain": [
       "array([0, 0, 1, 1, 1, 0, 0, 0, 0, 0, 1, 1, 0, 0])"
      ]
     },
     "execution_count": 90,
     "metadata": {},
     "output_type": "execute_result"
    }
   ],
   "source": [
    "dt_model.predict(ENCODED_TEST_DATA)"
   ]
  },
  {
   "cell_type": "code",
   "execution_count": 92,
   "metadata": {},
   "outputs": [],
   "source": [
    "# MLP\n",
    "from sklearn.neural_network import MLPClassifier"
   ]
  },
  {
   "cell_type": "code",
   "execution_count": 121,
   "metadata": {},
   "outputs": [
    {
     "data": {
      "text/plain": [
       "0.5614035087719298"
      ]
     },
     "execution_count": 121,
     "metadata": {},
     "output_type": "execute_result"
    }
   ],
   "source": [
    "mlp_model = MLPClassifier(random_state=42, hidden_layer_sizes=(8, 8), max_iter=4000)\n",
    "mlp_model.fit(X_train, y_train)\n",
    "test_score = mlp_model.score(X_test, y_test)\n",
    "test_score"
   ]
  },
  {
   "cell_type": "code",
   "execution_count": 120,
   "metadata": {},
   "outputs": [
    {
     "data": {
      "text/plain": [
       "array([0, 1, 0, 0, 0, 0, 0, 1, 1, 1, 0, 0, 0, 0])"
      ]
     },
     "execution_count": 120,
     "metadata": {},
     "output_type": "execute_result"
    }
   ],
   "source": [
    "mlp_model.predict(ENCODED_TEST_DATA)"
   ]
  },
  {
   "cell_type": "code",
   "execution_count": 122,
   "metadata": {},
   "outputs": [],
   "source": [
    "# regressors\n",
    "X = ENCODED_TRAIN_DATA\n",
    "y = REGRESSOR_LABELS\n",
    "X_train, X_test, y_train, y_test = train_test_split(X, y, test_size=0.25, random_state=42)"
   ]
  },
  {
   "cell_type": "code",
   "execution_count": 123,
   "metadata": {},
   "outputs": [],
   "source": [
    "from sklearn.ensemble import RandomForestRegressor"
   ]
  },
  {
   "cell_type": "code",
   "execution_count": 137,
   "metadata": {},
   "outputs": [
    {
     "data": {
      "text/plain": [
       "-0.04056840109189851"
      ]
     },
     "execution_count": 137,
     "metadata": {},
     "output_type": "execute_result"
    }
   ],
   "source": [
    "regr = RandomForestRegressor(max_depth=1, random_state=42, n_estimators=100)\n",
    "regr.fit(X_train, y_train)\n",
    "test_score = regr.score(X_test, y_test)\n",
    "test_score"
   ]
  },
  {
   "cell_type": "code",
   "execution_count": 138,
   "metadata": {},
   "outputs": [
    {
     "data": {
      "text/plain": [
       "[35.3262472562038,\n",
       " 28.856862676712993,\n",
       " 588.3158943654003,\n",
       " 966.8500451448854,\n",
       " 6764.525918232187,\n",
       " 40.78911176144185,\n",
       " 26.98878432396704,\n",
       " 91.45231695773282,\n",
       " 377.23895414018165,\n",
       " 3.4561936759994243]"
      ]
     },
     "execution_count": 138,
     "metadata": {},
     "output_type": "execute_result"
    }
   ],
   "source": [
    "predictions = regr.predict(ENCODED_TEST_DATA)\n",
    "list(predictions[9])"
   ]
  }
 ],
 "metadata": {
  "kernelspec": {
   "display_name": "Python 3",
   "language": "python",
   "name": "python3"
  },
  "language_info": {
   "codemirror_mode": {
    "name": "ipython",
    "version": 3
   },
   "file_extension": ".py",
   "mimetype": "text/x-python",
   "name": "python",
   "nbconvert_exporter": "python",
   "pygments_lexer": "ipython3",
   "version": "3.6.6"
  }
 },
 "nbformat": 4,
 "nbformat_minor": 2
}
